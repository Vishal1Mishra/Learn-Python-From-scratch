{
 "cells": [
  {
   "cell_type": "markdown",
   "metadata": {},
   "source": [
    "### Dictionary"
   ]
  },
  {
   "cell_type": "code",
   "execution_count": 1,
   "metadata": {},
   "outputs": [],
   "source": [
    "# Definition\n",
    "#1) It holds key-value pairs.\n",
    "#2) They are enclosed in {}.\n",
    "#3) All the keys in a dictionary must be unique.\n",
    "#4) Empty dictionary is defined as follows:\n",
    "#a) d1 = {} \n",
    "#b) d2 = dict()"
   ]
  },
  {
   "cell_type": "code",
   "execution_count": 6,
   "metadata": {},
   "outputs": [
    {
     "name": "stdout",
     "output_type": "stream",
     "text": [
      "<class 'dict'>\n",
      "{}\n"
     ]
    }
   ],
   "source": [
    "d =  {}   #dict()\n",
    "print(type(d))\n",
    "print(d)"
   ]
  },
  {
   "cell_type": "code",
   "execution_count": 7,
   "metadata": {},
   "outputs": [
    {
     "data": {
      "text/plain": [
       "4"
      ]
     },
     "execution_count": 7,
     "metadata": {},
     "output_type": "execute_result"
    }
   ],
   "source": [
    "d1 = {'k1':102,'k2':34,'k3':51,'k4':987}\n",
    "len(d1)"
   ]
  },
  {
   "cell_type": "code",
   "execution_count": 8,
   "metadata": {},
   "outputs": [
    {
     "name": "stdout",
     "output_type": "stream",
     "text": [
      "{'k1': 102, 'k2': 34, 'k3': 51, 'k4': 987}\n"
     ]
    }
   ],
   "source": [
    "print(d1)"
   ]
  },
  {
   "cell_type": "code",
   "execution_count": 10,
   "metadata": {},
   "outputs": [
    {
     "ename": "KeyError",
     "evalue": "2",
     "output_type": "error",
     "traceback": [
      "\u001b[1;31m---------------------------------------------------------------------------\u001b[0m",
      "\u001b[1;31mKeyError\u001b[0m                                  Traceback (most recent call last)",
      "\u001b[1;32m<ipython-input-10-27d1965970fe>\u001b[0m in \u001b[0;36m<module>\u001b[1;34m\u001b[0m\n\u001b[0;32m      1\u001b[0m \u001b[1;31m# Indexing doesn't work on dictionary\u001b[0m\u001b[1;33m\u001b[0m\u001b[1;33m\u001b[0m\u001b[1;33m\u001b[0m\u001b[0m\n\u001b[1;32m----> 2\u001b[1;33m \u001b[0md1\u001b[0m\u001b[1;33m[\u001b[0m\u001b[1;36m2\u001b[0m\u001b[1;33m]\u001b[0m\u001b[1;33m\u001b[0m\u001b[1;33m\u001b[0m\u001b[0m\n\u001b[0m",
      "\u001b[1;31mKeyError\u001b[0m: 2"
     ]
    }
   ],
   "source": [
    "# Indexing doesn't work on dictionary\n",
    "d1[2]"
   ]
  },
  {
   "cell_type": "code",
   "execution_count": 11,
   "metadata": {},
   "outputs": [
    {
     "data": {
      "text/plain": [
       "['__class__',\n",
       " '__contains__',\n",
       " '__delattr__',\n",
       " '__delitem__',\n",
       " '__dir__',\n",
       " '__doc__',\n",
       " '__eq__',\n",
       " '__format__',\n",
       " '__ge__',\n",
       " '__getattribute__',\n",
       " '__getitem__',\n",
       " '__gt__',\n",
       " '__hash__',\n",
       " '__init__',\n",
       " '__init_subclass__',\n",
       " '__iter__',\n",
       " '__le__',\n",
       " '__len__',\n",
       " '__lt__',\n",
       " '__ne__',\n",
       " '__new__',\n",
       " '__reduce__',\n",
       " '__reduce_ex__',\n",
       " '__repr__',\n",
       " '__setattr__',\n",
       " '__setitem__',\n",
       " '__sizeof__',\n",
       " '__str__',\n",
       " '__subclasshook__',\n",
       " 'clear',\n",
       " 'copy',\n",
       " 'fromkeys',\n",
       " 'get',\n",
       " 'items',\n",
       " 'keys',\n",
       " 'pop',\n",
       " 'popitem',\n",
       " 'setdefault',\n",
       " 'update',\n",
       " 'values']"
      ]
     },
     "execution_count": 11,
     "metadata": {},
     "output_type": "execute_result"
    }
   ],
   "source": [
    "dir(d1)"
   ]
  },
  {
   "cell_type": "markdown",
   "metadata": {},
   "source": [
    "### Fetching values from thier keys"
   ]
  },
  {
   "cell_type": "code",
   "execution_count": 13,
   "metadata": {},
   "outputs": [
    {
     "name": "stdout",
     "output_type": "stream",
     "text": [
      "{'k1': 102, 'k2': 34, 'k3': 51, 'k4': 987}\n",
      "102\n",
      "34\n",
      "51\n",
      "987\n"
     ]
    }
   ],
   "source": [
    "# Method 1\n",
    "print(d1)\n",
    "print(d1['k1'])\n",
    "print(d1['k2'])\n",
    "print(d1['k3'])\n",
    "print(d1['k4'])"
   ]
  },
  {
   "cell_type": "code",
   "execution_count": 14,
   "metadata": {},
   "outputs": [
    {
     "name": "stdout",
     "output_type": "stream",
     "text": [
      "102\n",
      "987\n",
      "51\n"
     ]
    }
   ],
   "source": [
    "# Method 2\n",
    "print(d1.get('k1'))\n",
    "print(d1.get('k4'))\n",
    "print(d1.get('k3'))"
   ]
  },
  {
   "cell_type": "code",
   "execution_count": 15,
   "metadata": {},
   "outputs": [
    {
     "name": "stdout",
     "output_type": "stream",
     "text": [
      "{'k1': 102, 'k2': 34, 'k3': 51, 'k4': 987}\n"
     ]
    }
   ],
   "source": [
    "print(d1)"
   ]
  },
  {
   "cell_type": "code",
   "execution_count": 16,
   "metadata": {},
   "outputs": [
    {
     "name": "stdout",
     "output_type": "stream",
     "text": [
      "{'k1': 102, 'k2': 908, 'k3': 79, 'k4': 987}\n"
     ]
    }
   ],
   "source": [
    "# Changing value for a given key in a dict\n",
    "d1['k2'] = 908\n",
    "d1['k3'] = 79\n",
    "print(d1)"
   ]
  },
  {
   "cell_type": "code",
   "execution_count": 32,
   "metadata": {},
   "outputs": [
    {
     "data": {
      "text/plain": [
       "13"
      ]
     },
     "execution_count": 32,
     "metadata": {},
     "output_type": "execute_result"
    }
   ],
   "source": [
    "d2 = {'a':11,'b':12,'c':13,'d':14,'e':15}\n",
    "d2['c']"
   ]
  },
  {
   "cell_type": "markdown",
   "metadata": {},
   "source": [
    "### Insertion"
   ]
  },
  {
   "cell_type": "code",
   "execution_count": 33,
   "metadata": {},
   "outputs": [
    {
     "name": "stdout",
     "output_type": "stream",
     "text": [
      "{'a': 11, 'b': 12, 'c': 13, 'd': 14, 'e': 15}\n",
      "{'a': 11, 'b': 12, 'c': 13, 'd': 14, 'e': 15, 'f': 28, 'g': 'hello'}\n"
     ]
    }
   ],
   "source": [
    "# Inserting a key- value pair to a dictionary\n",
    "print(d2)\n",
    "d2['f']=28\n",
    "d2['g'] ='hello'\n",
    "print(d2)"
   ]
  },
  {
   "cell_type": "code",
   "execution_count": 34,
   "metadata": {},
   "outputs": [
    {
     "name": "stdout",
     "output_type": "stream",
     "text": [
      "{'a': 11, 'b': 12, 'c': 13, 'd': 16, 'e': 15, 'f': 28, 'g': 'hello'}\n"
     ]
    }
   ],
   "source": [
    "d2['d']=16\n",
    "print(d2)"
   ]
  },
  {
   "cell_type": "code",
   "execution_count": 35,
   "metadata": {},
   "outputs": [
    {
     "name": "stdout",
     "output_type": "stream",
     "text": [
      "{'a': 11, 'b': 12, 'c': 13, 'd': 16, 'e': 15, 'f': 28, 'g': 'hello', 'h': 16}\n"
     ]
    }
   ],
   "source": [
    "d2['h']=16\n",
    "print(d2)"
   ]
  },
  {
   "cell_type": "markdown",
   "metadata": {},
   "source": [
    "### copy() and clear()"
   ]
  },
  {
   "cell_type": "code",
   "execution_count": 36,
   "metadata": {},
   "outputs": [],
   "source": [
    "d3 = d2.copy()"
   ]
  },
  {
   "cell_type": "code",
   "execution_count": 37,
   "metadata": {},
   "outputs": [
    {
     "name": "stdout",
     "output_type": "stream",
     "text": [
      "{'a': 11, 'b': 12, 'c': 13, 'd': 16, 'e': 15, 'f': 28, 'g': 'hello', 'h': 16}\n",
      "{'a': 11, 'b': 12, 'c': 13, 'd': 16, 'e': 15, 'f': 28, 'g': 'hello', 'h': 16}\n"
     ]
    }
   ],
   "source": [
    "print(d2)\n",
    "print(d3)"
   ]
  },
  {
   "cell_type": "code",
   "execution_count": 38,
   "metadata": {},
   "outputs": [
    {
     "name": "stdout",
     "output_type": "stream",
     "text": [
      "{}\n",
      "{'a': 11, 'b': 12, 'c': 13, 'd': 16, 'e': 15, 'f': 28, 'g': 'hello', 'h': 16}\n"
     ]
    }
   ],
   "source": [
    "d2.clear()\n",
    "print(d2)\n",
    "print(d3)"
   ]
  },
  {
   "cell_type": "markdown",
   "metadata": {},
   "source": [
    "### pop() - removes key-value pair from the dictionary given a key as its argument"
   ]
  },
  {
   "cell_type": "code",
   "execution_count": 39,
   "metadata": {},
   "outputs": [
    {
     "data": {
      "text/plain": [
       "{'a': 11, 'b': 12, 'c': 13, 'd': 16, 'e': 15, 'f': 28, 'g': 'hello', 'h': 16}"
      ]
     },
     "execution_count": 39,
     "metadata": {},
     "output_type": "execute_result"
    }
   ],
   "source": [
    "d3"
   ]
  },
  {
   "cell_type": "code",
   "execution_count": 40,
   "metadata": {},
   "outputs": [
    {
     "data": {
      "text/plain": [
       "13"
      ]
     },
     "execution_count": 40,
     "metadata": {},
     "output_type": "execute_result"
    }
   ],
   "source": [
    "d3.pop('c')"
   ]
  },
  {
   "cell_type": "code",
   "execution_count": 41,
   "metadata": {},
   "outputs": [
    {
     "name": "stdout",
     "output_type": "stream",
     "text": [
      "{'a': 11, 'b': 12, 'd': 16, 'e': 15, 'f': 28, 'g': 'hello', 'h': 16}\n"
     ]
    }
   ],
   "source": [
    "print(d3)"
   ]
  },
  {
   "cell_type": "code",
   "execution_count": 42,
   "metadata": {},
   "outputs": [
    {
     "ename": "KeyError",
     "evalue": "'i'",
     "output_type": "error",
     "traceback": [
      "\u001b[1;31m---------------------------------------------------------------------------\u001b[0m",
      "\u001b[1;31mKeyError\u001b[0m                                  Traceback (most recent call last)",
      "\u001b[1;32m<ipython-input-42-8489375312ce>\u001b[0m in \u001b[0;36m<module>\u001b[1;34m\u001b[0m\n\u001b[0;32m      1\u001b[0m \u001b[1;31m# Deleting a value not in the dictionary gives an error\u001b[0m\u001b[1;33m\u001b[0m\u001b[1;33m\u001b[0m\u001b[1;33m\u001b[0m\u001b[0m\n\u001b[1;32m----> 2\u001b[1;33m \u001b[0md3\u001b[0m\u001b[1;33m.\u001b[0m\u001b[0mpop\u001b[0m\u001b[1;33m(\u001b[0m\u001b[1;34m'i'\u001b[0m\u001b[1;33m)\u001b[0m\u001b[1;33m\u001b[0m\u001b[1;33m\u001b[0m\u001b[0m\n\u001b[0m\u001b[0;32m      3\u001b[0m \u001b[0mprint\u001b[0m\u001b[1;33m(\u001b[0m\u001b[0md3\u001b[0m\u001b[1;33m)\u001b[0m\u001b[1;33m\u001b[0m\u001b[1;33m\u001b[0m\u001b[0m\n",
      "\u001b[1;31mKeyError\u001b[0m: 'i'"
     ]
    }
   ],
   "source": [
    "# Deleting a value not in the dictionary gives an error\n",
    "d3.pop('i')\n",
    "print(d3)"
   ]
  },
  {
   "cell_type": "code",
   "execution_count": 43,
   "metadata": {},
   "outputs": [
    {
     "ename": "TypeError",
     "evalue": "pop expected at least 1 arguments, got 0",
     "output_type": "error",
     "traceback": [
      "\u001b[1;31m---------------------------------------------------------------------------\u001b[0m",
      "\u001b[1;31mTypeError\u001b[0m                                 Traceback (most recent call last)",
      "\u001b[1;32m<ipython-input-43-bdae166b8e74>\u001b[0m in \u001b[0;36m<module>\u001b[1;34m\u001b[0m\n\u001b[1;32m----> 1\u001b[1;33m \u001b[0md3\u001b[0m\u001b[1;33m.\u001b[0m\u001b[0mpop\u001b[0m\u001b[1;33m(\u001b[0m\u001b[1;33m)\u001b[0m\u001b[1;33m\u001b[0m\u001b[1;33m\u001b[0m\u001b[0m\n\u001b[0m\u001b[0;32m      2\u001b[0m \u001b[0mprint\u001b[0m\u001b[1;33m(\u001b[0m\u001b[0md3\u001b[0m\u001b[1;33m)\u001b[0m\u001b[1;33m\u001b[0m\u001b[1;33m\u001b[0m\u001b[0m\n",
      "\u001b[1;31mTypeError\u001b[0m: pop expected at least 1 arguments, got 0"
     ]
    }
   ],
   "source": [
    "d3.pop()\n",
    "print(d3)"
   ]
  },
  {
   "cell_type": "code",
   "execution_count": 27,
   "metadata": {},
   "outputs": [
    {
     "ename": "TypeError",
     "evalue": "pop expected at least 1 arguments, got 0",
     "output_type": "error",
     "traceback": [
      "\u001b[1;31m---------------------------------------------------------------------------\u001b[0m",
      "\u001b[1;31mTypeError\u001b[0m                                 Traceback (most recent call last)",
      "\u001b[1;32m<ipython-input-27-c768210e5bce>\u001b[0m in \u001b[0;36m<module>\u001b[1;34m\u001b[0m\n\u001b[1;32m----> 1\u001b[1;33m \u001b[0md3\u001b[0m\u001b[1;33m.\u001b[0m\u001b[0mpop\u001b[0m\u001b[1;33m(\u001b[0m\u001b[1;33m)\u001b[0m\u001b[1;33m\u001b[0m\u001b[1;33m\u001b[0m\u001b[0m\n\u001b[0m",
      "\u001b[1;31mTypeError\u001b[0m: pop expected at least 1 arguments, got 0"
     ]
    }
   ],
   "source": [
    "d3.pop()"
   ]
  },
  {
   "cell_type": "markdown",
   "metadata": {},
   "source": [
    "### update() - combines two diferent dictionaries"
   ]
  },
  {
   "cell_type": "code",
   "execution_count": 44,
   "metadata": {},
   "outputs": [
    {
     "name": "stdout",
     "output_type": "stream",
     "text": [
      "{'a': 51, 'b': 52, 'c': 'Japan'}\n",
      "{'p': 768, 'q': 769, 'r': -45.9, 's': 123}\n",
      "{'a': 51, 'b': 52, 'c': 'Japan', 'p': 768, 'q': 769, 'r': -45.9, 's': 123}\n",
      "{'p': 768, 'q': 769, 'r': -45.9, 's': 123}\n"
     ]
    }
   ],
   "source": [
    "dict1 = {'a': 51, 'b': 52, 'c': 'Japan'}\n",
    "dict2 = {'p': 768, 'q':769, 'r':-45.90,'s':123}\n",
    "print(dict1)\n",
    "print(dict2)\n",
    "dict1.update(dict2)\n",
    "print(dict1)\n",
    "print(dict2)"
   ]
  },
  {
   "cell_type": "markdown",
   "metadata": {},
   "source": [
    "### dict.fromkeys() - Create a new dictionary with keys from iterable and values set to value."
   ]
  },
  {
   "cell_type": "code",
   "execution_count": 65,
   "metadata": {},
   "outputs": [
    {
     "name": "stdout",
     "output_type": "stream",
     "text": [
      "{'a': [1, 2], 'e': [1, 2], 'u': [1, 2], 'i': [1, 2], 'o': [1, 2]}\n"
     ]
    }
   ],
   "source": [
    "s1 = {'a','e','o','i','u'}\n",
    "s2 = [1,2]\n",
    "result = dict.fromkeys(s1,s2)\n",
    "print(result)  "
   ]
  },
  {
   "cell_type": "code",
   "execution_count": 67,
   "metadata": {},
   "outputs": [
    {
     "name": "stdout",
     "output_type": "stream",
     "text": [
      "{'a': None, 'e': None, 'i': None, 'o': None, 'u': None}\n"
     ]
    }
   ],
   "source": [
    "keys = ['a', 'e', 'i', 'o', 'u']\n",
    "vowels = dict.fromkeys(keys)\n",
    "print(vowels)"
   ]
  },
  {
   "cell_type": "code",
   "execution_count": 68,
   "metadata": {},
   "outputs": [
    {
     "name": "stdout",
     "output_type": "stream",
     "text": [
      "{'a': [23, 34, 45, 56, 67], 'b': [23, 34, 45, 56, 67], 'c': [23, 34, 45, 56, 67], 'd': [23, 34, 45, 56, 67], 'e': [23, 34, 45, 56, 67]}\n"
     ]
    }
   ],
   "source": [
    "a1 = ['a','b','c','d','e']\n",
    "a2 = [23,34,45,56,67]\n",
    "a3 = dict.fromkeys(a1, a2)\n",
    "print(a3)"
   ]
  },
  {
   "cell_type": "markdown",
   "metadata": {},
   "source": [
    "### popitem() - removes last key-value pair from the dictionary"
   ]
  },
  {
   "cell_type": "code",
   "execution_count": 70,
   "metadata": {},
   "outputs": [
    {
     "name": "stdout",
     "output_type": "stream",
     "text": [
      "{'a': 11, 'b': 12, 'd': 16, 'e': 15, 'f': 28, 'g': 'hello'}\n",
      "('g', 'hello')\n",
      "{'a': 11, 'b': 12, 'd': 16, 'e': 15, 'f': 28}\n"
     ]
    }
   ],
   "source": [
    "print(d3)\n",
    "print(d3.popitem()) \n",
    "print(d3)"
   ]
  },
  {
   "cell_type": "markdown",
   "metadata": {},
   "source": [
    "### setdefault() - inserts a new key with default value as 'None'. if key exists then there is no change in the dictionary"
   ]
  },
  {
   "cell_type": "code",
   "execution_count": 72,
   "metadata": {},
   "outputs": [
    {
     "name": "stdout",
     "output_type": "stream",
     "text": [
      "{'a': 11, 'b': 12, 'c': 13, 'd': 14, 'e': 15, 'f': 28, 'n': None}\n",
      "{'a': 11, 'b': 12, 'c': 13, 'd': 14, 'e': 15, 'f': 28, 'n': 45}\n"
     ]
    }
   ],
   "source": [
    "d3 = {'a': 11, 'b': 12, 'c': 13, 'd': 14, 'e': 15, 'f': 28}\n",
    "d3.setdefault('n')\n",
    "print(d3)\n",
    "d3['n']= 45\n",
    "print(d3)"
   ]
  },
  {
   "cell_type": "code",
   "execution_count": 73,
   "metadata": {},
   "outputs": [
    {
     "name": "stdout",
     "output_type": "stream",
     "text": [
      "{'a': 11, 'b': 12, 'c': 13, 'd': 14, 'e': 15, 'f': 28, 'n': 45, 'm': None}\n"
     ]
    }
   ],
   "source": [
    "d3.setdefault('m')\n",
    "print(d3)"
   ]
  },
  {
   "cell_type": "code",
   "execution_count": 74,
   "metadata": {},
   "outputs": [
    {
     "name": "stdout",
     "output_type": "stream",
     "text": [
      "{'a': 11, 'b': 12, 'c': 13, 'd': 14, 'e': 15, 'f': 28, 'n': 45, 'm': None}\n"
     ]
    }
   ],
   "source": [
    "d3.setdefault('c')\n",
    "print(d3)"
   ]
  },
  {
   "cell_type": "markdown",
   "metadata": {},
   "source": [
    "### Iteration"
   ]
  },
  {
   "cell_type": "code",
   "execution_count": 76,
   "metadata": {},
   "outputs": [
    {
     "name": "stdout",
     "output_type": "stream",
     "text": [
      "{'a': 11, 'b': 12, 'c': 13, 'd': 14, 'e': 15, 'f': 28, 'n': 45, 'm': None}\n",
      "a\n",
      "b\n",
      "c\n",
      "d\n",
      "e\n",
      "f\n",
      "n\n",
      "m\n"
     ]
    }
   ],
   "source": [
    "# Keys\n",
    "print(d3)\n",
    "for i in d3.keys():\n",
    "    print(i)"
   ]
  },
  {
   "cell_type": "code",
   "execution_count": 78,
   "metadata": {},
   "outputs": [
    {
     "name": "stdout",
     "output_type": "stream",
     "text": [
      "a 11\n",
      "b 12\n",
      "c 13\n",
      "d 14\n",
      "e 15\n",
      "f 28\n",
      "n 45\n",
      "m None\n"
     ]
    }
   ],
   "source": [
    "for i in d3:\n",
    "    print(i,d3[i])"
   ]
  },
  {
   "cell_type": "code",
   "execution_count": 79,
   "metadata": {},
   "outputs": [
    {
     "name": "stdout",
     "output_type": "stream",
     "text": [
      "11\n",
      "12\n",
      "13\n",
      "14\n",
      "15\n",
      "28\n",
      "45\n",
      "None\n"
     ]
    }
   ],
   "source": [
    "# Values\n",
    "for i in d3.values():\n",
    "    print(i)"
   ]
  },
  {
   "cell_type": "code",
   "execution_count": 83,
   "metadata": {},
   "outputs": [
    {
     "name": "stdout",
     "output_type": "stream",
     "text": [
      "a 11\n",
      "b 12\n",
      "c 13\n",
      "d 14\n",
      "e 15\n",
      "f 28\n",
      "n 45\n",
      "m None\n"
     ]
    }
   ],
   "source": [
    "for i,j in d3.items():\n",
    "    print(i,j)"
   ]
  },
  {
   "cell_type": "code",
   "execution_count": 84,
   "metadata": {},
   "outputs": [
    {
     "name": "stdout",
     "output_type": "stream",
     "text": [
      "('a', 11)\n",
      "('b', 12)\n",
      "('c', 13)\n",
      "('d', 14)\n",
      "('e', 15)\n",
      "('f', 28)\n",
      "('n', 45)\n",
      "('m', None)\n"
     ]
    }
   ],
   "source": [
    "# Items\n",
    "for v in d3.items():\n",
    "    print(v)"
   ]
  },
  {
   "cell_type": "markdown",
   "metadata": {},
   "source": [
    "### Dictionary comprehension"
   ]
  },
  {
   "cell_type": "code",
   "execution_count": 86,
   "metadata": {},
   "outputs": [
    {
     "name": "stdout",
     "output_type": "stream",
     "text": [
      "[0, 1, 2, 3, 4]\n",
      "<class 'list'>\n"
     ]
    }
   ],
   "source": [
    "l = [x for x in range(5)] \n",
    "print(l)\n",
    "print(type(l))"
   ]
  },
  {
   "cell_type": "code",
   "execution_count": 87,
   "metadata": {},
   "outputs": [
    {
     "name": "stdout",
     "output_type": "stream",
     "text": [
      "{0, 1, 2, 3, 4}\n",
      "<class 'set'>\n"
     ]
    }
   ],
   "source": [
    "l = {x for x in range(5)} \n",
    "print(l)\n",
    "print(type(l))"
   ]
  },
  {
   "cell_type": "code",
   "execution_count": 89,
   "metadata": {},
   "outputs": [
    {
     "name": "stdout",
     "output_type": "stream",
     "text": [
      "{1: 1, 2: 4, 3: 9, 4: 16, 5: 25}\n"
     ]
    }
   ],
   "source": [
    "myDict = {x: x**2 for x in range(1,6)} \n",
    "print(myDict) "
   ]
  },
  {
   "cell_type": "code",
   "execution_count": 91,
   "metadata": {},
   "outputs": [
    {
     "name": "stdout",
     "output_type": "stream",
     "text": [
      "{'c': 'C', 'o': 'O', 'd': 'D', 'i': 'I', 'n': 'N', 'g': 'G'}\n"
     ]
    }
   ],
   "source": [
    "d1 = {x: x.upper() for x in 'coding'} \n",
    "print(d1) "
   ]
  },
  {
   "cell_type": "code",
   "execution_count": 92,
   "metadata": {},
   "outputs": [
    {
     "name": "stdout",
     "output_type": "stream",
     "text": [
      "{0: 0, 3: 27, 6: 216, 9: 729}\n"
     ]
    }
   ],
   "source": [
    "newdict = {x:x**3 for x in range(10) if x%3==0} \n",
    "print(newdict) "
   ]
  },
  {
   "cell_type": "code",
   "execution_count": 106,
   "metadata": {},
   "outputs": [],
   "source": [
    "r1 ={'k2':34,'k3':[1,2,3,4,5,{'a1':35,'a2':67,'a3':{'weights':[23,45,67,89,123],'Mark':78}}],'k4':987,'k5':560}"
   ]
  },
  {
   "cell_type": "code",
   "execution_count": 107,
   "metadata": {},
   "outputs": [
    {
     "data": {
      "text/plain": [
       "[3, 5]"
      ]
     },
     "execution_count": 107,
     "metadata": {},
     "output_type": "execute_result"
    }
   ],
   "source": [
    "r1['k3'][2:5:2]"
   ]
  },
  {
   "cell_type": "code",
   "execution_count": 109,
   "metadata": {},
   "outputs": [
    {
     "data": {
      "text/plain": [
       "[1,\n",
       " 2,\n",
       " 3,\n",
       " 4,\n",
       " 5,\n",
       " {'a1': 35, 'a2': 67, 'a3': {'weights': [23, 45, 67, 89, 123], 'Mark': 78}}]"
      ]
     },
     "execution_count": 109,
     "metadata": {},
     "output_type": "execute_result"
    }
   ],
   "source": [
    "r1['k3']"
   ]
  },
  {
   "cell_type": "code",
   "execution_count": 110,
   "metadata": {},
   "outputs": [
    {
     "name": "stdout",
     "output_type": "stream",
     "text": [
      "[2, 3]\n",
      "[2, 4]\n"
     ]
    }
   ],
   "source": [
    "print(r1['k3'][1:3])\n",
    "print(r1['k3'][1:5:2])"
   ]
  },
  {
   "cell_type": "code",
   "execution_count": 111,
   "metadata": {},
   "outputs": [
    {
     "name": "stdout",
     "output_type": "stream",
     "text": [
      "{'a1': 35, 'a2': 67, 'a3': {'weights': [23, 45, 67, 89, 123], 'Mark': 78}}\n"
     ]
    }
   ],
   "source": [
    "print(r1['k3'][5])"
   ]
  },
  {
   "cell_type": "code",
   "execution_count": 112,
   "metadata": {},
   "outputs": [
    {
     "name": "stdout",
     "output_type": "stream",
     "text": [
      "{'weights': [23, 45, 67, 89, 123], 'Mark': 78}\n"
     ]
    }
   ],
   "source": [
    "print(r1['k3'][5]['a3'])"
   ]
  },
  {
   "cell_type": "code",
   "execution_count": 113,
   "metadata": {},
   "outputs": [
    {
     "name": "stdout",
     "output_type": "stream",
     "text": [
      "78\n"
     ]
    }
   ],
   "source": [
    "print(r1['k3'][5]['a3']['Mark'])"
   ]
  },
  {
   "cell_type": "code",
   "execution_count": 115,
   "metadata": {},
   "outputs": [
    {
     "data": {
      "text/plain": [
       "[67, 123]"
      ]
     },
     "execution_count": 115,
     "metadata": {},
     "output_type": "execute_result"
    }
   ],
   "source": [
    "r1['k3'][5]['a3']['weights'][2:5:2]"
   ]
  },
  {
   "cell_type": "code",
   "execution_count": 116,
   "metadata": {},
   "outputs": [
    {
     "data": {
      "text/plain": [
       "{'weights': [23, 45, 67, 89, 123], 'Mark': 78}"
      ]
     },
     "execution_count": 116,
     "metadata": {},
     "output_type": "execute_result"
    }
   ],
   "source": [
    "r1['k3'][5]['a3']"
   ]
  },
  {
   "cell_type": "code",
   "execution_count": 72,
   "metadata": {},
   "outputs": [
    {
     "data": {
      "text/plain": [
       "[23, 45, 67, 89, 123]"
      ]
     },
     "execution_count": 72,
     "metadata": {},
     "output_type": "execute_result"
    }
   ],
   "source": [
    "r1['k3'][5]['a3']['weights']"
   ]
  },
  {
   "cell_type": "code",
   "execution_count": 20,
   "metadata": {},
   "outputs": [
    {
     "data": {
      "text/plain": [
       "[67, 123]"
      ]
     },
     "execution_count": 20,
     "metadata": {},
     "output_type": "execute_result"
    }
   ],
   "source": [
    "r1['k3'][5]['a3']['weights'][2::2]"
   ]
  },
  {
   "cell_type": "code",
   "execution_count": 21,
   "metadata": {},
   "outputs": [
    {
     "data": {
      "text/plain": [
       "[23, 45, 67]"
      ]
     },
     "execution_count": 21,
     "metadata": {},
     "output_type": "execute_result"
    }
   ],
   "source": [
    "r1['k3'][5]['a3']['weights'][:3] "
   ]
  },
  {
   "cell_type": "code",
   "execution_count": 23,
   "metadata": {},
   "outputs": [
    {
     "name": "stdout",
     "output_type": "stream",
     "text": [
      "{'k1': 102, 'k2': 34, 'k3': 51, 'k4': 987}\n"
     ]
    }
   ],
   "source": [
    "d1 = {'k1':102,'k2':34,'k3':51,'k4':987}\n",
    "print(d1)"
   ]
  },
  {
   "cell_type": "code",
   "execution_count": 25,
   "metadata": {},
   "outputs": [
    {
     "name": "stdout",
     "output_type": "stream",
     "text": [
      "{'k1': 45, 'k2': 34, 'k3': 51, 'k4': 987}\n"
     ]
    }
   ],
   "source": [
    "d1['k1']=45\n",
    "print(d1)"
   ]
  },
  {
   "cell_type": "code",
   "execution_count": 93,
   "metadata": {},
   "outputs": [
    {
     "data": {
      "text/plain": [
       "13"
      ]
     },
     "execution_count": 93,
     "metadata": {},
     "output_type": "execute_result"
    }
   ],
   "source": [
    "ls1 =[12,24,35,24,78,35,12,78,78,24,78,12,12]\n",
    "len(ls1)"
   ]
  },
  {
   "cell_type": "code",
   "execution_count": 148,
   "metadata": {},
   "outputs": [
    {
     "name": "stdout",
     "output_type": "stream",
     "text": [
      "{12: 4, 24: 3, 35: 2, 78: 4}\n"
     ]
    }
   ],
   "source": [
    "d = {}\n",
    "for i in range(len(ls1)):  # 0-12\n",
    "    if ls1[i] not in d.keys():\n",
    "        d[ls1[i]] = 1\n",
    "    else:\n",
    "        d[ls1[i]] +=1\n",
    "print(d)"
   ]
  },
  {
   "cell_type": "code",
   "execution_count": 150,
   "metadata": {},
   "outputs": [
    {
     "data": {
      "text/plain": [
       "4"
      ]
     },
     "execution_count": 150,
     "metadata": {},
     "output_type": "execute_result"
    }
   ],
   "source": [
    "len(d)"
   ]
  },
  {
   "cell_type": "code",
   "execution_count": 102,
   "metadata": {},
   "outputs": [
    {
     "name": "stdout",
     "output_type": "stream",
     "text": [
      "['a', 'b', 'c']\n",
      "[100, 350, 450]\n"
     ]
    }
   ],
   "source": [
    "d={'a':100,'b':350,'c':450}\n",
    "keys = list(d.keys())\n",
    "values = list(d.values())\n",
    "print(keys)\n",
    "print(values)"
   ]
  },
  {
   "cell_type": "code",
   "execution_count": 104,
   "metadata": {},
   "outputs": [
    {
     "name": "stdout",
     "output_type": "stream",
     "text": [
      "0\n",
      "a\n"
     ]
    }
   ],
   "source": [
    "print(values.index(100))\n",
    "print(keys[values.index(100)]) "
   ]
  },
  {
   "cell_type": "code",
   "execution_count": 101,
   "metadata": {},
   "outputs": [],
   "source": [
    "# WAF to calculate key corresponding to a value\n",
    "def find_key(val): \n",
    "    d={'a':100,'b':350,'c':450}\n",
    "    for key, value in d.items(): \n",
    "         if val == value: \n",
    "            print(key)"
   ]
  },
  {
   "cell_type": "code",
   "execution_count": 99,
   "metadata": {},
   "outputs": [
    {
     "name": "stdout",
     "output_type": "stream",
     "text": [
      "c\n"
     ]
    }
   ],
   "source": [
    "find_key(450)"
   ]
  },
  {
   "cell_type": "code",
   "execution_count": 100,
   "metadata": {},
   "outputs": [
    {
     "name": "stdout",
     "output_type": "stream",
     "text": [
      "a 100\n",
      "b 350\n",
      "c 450\n"
     ]
    }
   ],
   "source": [
    "d={'a':100,'b':350,'c':450}\n",
    "for i,j in d.items():\n",
    "    print(i,j)"
   ]
  },
  {
   "cell_type": "code",
   "execution_count": null,
   "metadata": {},
   "outputs": [],
   "source": []
  },
  {
   "cell_type": "code",
   "execution_count": null,
   "metadata": {},
   "outputs": [],
   "source": []
  }
 ],
 "metadata": {
  "kernelspec": {
   "display_name": "Python 3",
   "language": "python",
   "name": "python3"
  },
  "language_info": {
   "codemirror_mode": {
    "name": "ipython",
    "version": 3
   },
   "file_extension": ".py",
   "mimetype": "text/x-python",
   "name": "python",
   "nbconvert_exporter": "python",
   "pygments_lexer": "ipython3",
   "version": "3.7.3"
  }
 },
 "nbformat": 4,
 "nbformat_minor": 2
}
