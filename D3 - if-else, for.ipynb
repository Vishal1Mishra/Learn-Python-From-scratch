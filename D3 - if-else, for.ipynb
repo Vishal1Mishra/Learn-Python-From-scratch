{
 "cells": [
  {
   "cell_type": "code",
   "execution_count": 10,
   "metadata": {},
   "outputs": [
    {
     "name": "stdout",
     "output_type": "stream",
     "text": [
      "Donald Trump Donald Trump Donald Trump \n"
     ]
    }
   ],
   "source": [
    "st = \"Donald Trump \"\n",
    "print(st*3)"
   ]
  },
  {
   "cell_type": "code",
   "execution_count": 11,
   "metadata": {},
   "outputs": [
    {
     "name": "stdout",
     "output_type": "stream",
     "text": [
      "hello***python\n"
     ]
    }
   ],
   "source": [
    "a=\"hello\"\n",
    "b=\"python\"\n",
    "print(a,b,sep=\"***\")"
   ]
  },
  {
   "cell_type": "markdown",
   "metadata": {},
   "source": [
    "### if-else in Python"
   ]
  },
  {
   "cell_type": "code",
   "execution_count": 2,
   "metadata": {},
   "outputs": [
    {
     "name": "stdout",
     "output_type": "stream",
     "text": [
      "55 is divisble by 5\n"
     ]
    }
   ],
   "source": [
    "#1) if\n",
    "n=55\n",
    "if(n%5==0):\n",
    "    print(f'{n} is divisble by 5')"
   ]
  },
  {
   "cell_type": "code",
   "execution_count": 5,
   "metadata": {},
   "outputs": [
    {
     "name": "stdout",
     "output_type": "stream",
     "text": [
      "45 is divisble by 9\n"
     ]
    }
   ],
   "source": [
    "#2) if-else\n",
    "n=45\n",
    "if n%9==0:    \n",
    "    print(n,'is divisble by 9')\n",
    "else:\n",
    "    print(n,'is not divisble by 9')"
   ]
  },
  {
   "cell_type": "code",
   "execution_count": 11,
   "metadata": {},
   "outputs": [
    {
     "name": "stdout",
     "output_type": "stream",
     "text": [
      "Java Developer\n"
     ]
    }
   ],
   "source": [
    "#3) if-elif\n",
    "lang = 'Java'\n",
    "if(lang=='C#'):\n",
    "    print('Dot net Developer') # control is not over here\n",
    "elif(lang =='Python'):\n",
    "    print('Python Developer') # control is not over here\n",
    "elif(lang =='C++'):\n",
    "    print('C++ Developer') # control is not over here\n",
    "elif(lang =='Angular js'):\n",
    "    print('Web Developer') # control is not over here\n",
    "elif(lang =='Java'):\n",
    "    print('Java Developer') # control is over here\n",
    "elif(lang =='Selenium'):\n",
    "    print('Tester')"
   ]
  },
  {
   "cell_type": "code",
   "execution_count": 23,
   "metadata": {},
   "outputs": [
    {
     "name": "stdout",
     "output_type": "stream",
     "text": [
      "Java Developer\n",
      "None of the above\n"
     ]
    }
   ],
   "source": [
    "lang = 'Java'\n",
    "if(lang=='C#'):                 # control not over here\n",
    "    print('Dot net Developer')\n",
    "if(lang =='Python'):          # control not over here\n",
    "    print('Python Developer')  \n",
    "if(lang =='C++'):            # control not over here\n",
    "    print('C++ Developer')    \n",
    "if(lang =='Angular js'):      # control not over here\n",
    "    print('Web Developer')   \n",
    "if(lang =='Java'):           # control over here\n",
    "    print('Java Developer')\n",
    "if(lang =='Selenium'):       # control not over here\n",
    "    print('Tester')\n",
    "else:\n",
    "    print('None of the above')  # control over here"
   ]
  },
  {
   "cell_type": "code",
   "execution_count": 18,
   "metadata": {},
   "outputs": [
    {
     "name": "stdout",
     "output_type": "stream",
     "text": [
      "None of the above\n"
     ]
    }
   ],
   "source": [
    "#4) if-elif-else\n",
    "name = 'Sivasish'\n",
    "if(name=='Jitin'):\n",
    "     print('Jitin') # control not over here\n",
    "elif(name =='Manuj'):\n",
    "    print('Manuj') # control not over here\n",
    "elif(name =='Alok'):\n",
    "    print('Alok') # control not over here\n",
    "elif(lang =='Paritosh'):\n",
    "    print('Paritosh') # control not over here\n",
    "elif(name =='Anya'):\n",
    "    print('Anya') # control not over here\n",
    "elif(name =='Robert'):\n",
    "    print('Robert') # control not over here\n",
    "else:\n",
    "    print('None of the above') # control over here"
   ]
  },
  {
   "cell_type": "code",
   "execution_count": 32,
   "metadata": {},
   "outputs": [
    {
     "name": "stdout",
     "output_type": "stream",
     "text": [
      "81 is not divisible by 5\n"
     ]
    }
   ],
   "source": [
    "# Nested if - if inside if\n",
    "n=81\n",
    "if(n%5==0):\n",
    "    if(n%3==0):\n",
    "        print(f'{n} is divisible by 15')\n",
    "    else:\n",
    "        print(f'{n} is divisible by 5')\n",
    "else:\n",
    "    print(f'{n} is not divisible by 5')"
   ]
  },
  {
   "cell_type": "markdown",
   "metadata": {},
   "source": [
    "### For and while Loops In python"
   ]
  },
  {
   "cell_type": "markdown",
   "metadata": {},
   "source": [
    "### For loops"
   ]
  },
  {
   "cell_type": "markdown",
   "metadata": {},
   "source": [
    "<p><b>for in loops</b>\n",
    "Used for traversing in a sequence ie. used to iterate over iterators"
   ]
  },
  {
   "cell_type": "code",
   "execution_count": 66,
   "metadata": {},
   "outputs": [
    {
     "name": "stdout",
     "output_type": "stream",
     "text": [
      "1\n",
      "2\n",
      "3\n"
     ]
    }
   ],
   "source": [
    "for i in range(1,4):\n",
    "    print(i)"
   ]
  },
  {
   "cell_type": "code",
   "execution_count": 4,
   "metadata": {},
   "outputs": [
    {
     "name": "stdout",
     "output_type": "stream",
     "text": [
      "0\n",
      "1\n",
      "2\n",
      "3\n",
      "4\n"
     ]
    }
   ],
   "source": [
    "for i in range(5):\n",
    "    print(i)"
   ]
  },
  {
   "cell_type": "code",
   "execution_count": 6,
   "metadata": {},
   "outputs": [
    {
     "name": "stdout",
     "output_type": "stream",
     "text": [
      "1 2 3 4 5 6 "
     ]
    }
   ],
   "source": [
    "for i in range(1,7):\n",
    "    print(i,end=\" \")"
   ]
  },
  {
   "cell_type": "code",
   "execution_count": 68,
   "metadata": {},
   "outputs": [
    {
     "name": "stdout",
     "output_type": "stream",
     "text": [
      "56\n",
      "13\n",
      "14\n",
      "17\n",
      "18\n"
     ]
    }
   ],
   "source": [
    "w1 = [56,13,14,17,18]\n",
    "for javeeth in w1:\n",
    "    print(javeeth)"
   ]
  },
  {
   "cell_type": "code",
   "execution_count": 69,
   "metadata": {},
   "outputs": [
    {
     "name": "stdout",
     "output_type": "stream",
     "text": [
      "5\n",
      "[56, 13, 14, 17, 18]\n"
     ]
    }
   ],
   "source": [
    "print(len(w1))\n",
    "print(w1)"
   ]
  },
  {
   "cell_type": "code",
   "execution_count": 72,
   "metadata": {},
   "outputs": [
    {
     "name": "stdout",
     "output_type": "stream",
     "text": [
      "56\n"
     ]
    }
   ],
   "source": [
    "for i in range(len(w1)):\n",
    "    if(w1[i]>20):\n",
    "        print(w1[i])"
   ]
  },
  {
   "cell_type": "code",
   "execution_count": 74,
   "metadata": {},
   "outputs": [
    {
     "name": "stdout",
     "output_type": "stream",
     "text": [
      "0 23\n",
      "1 34\n",
      "2 45\n",
      "3 56\n",
      "4 67\n"
     ]
    }
   ],
   "source": [
    "w1 =[23,34,45,56,67]\n",
    "for i in range(len(w1)):\n",
    "    print(i,w1[i])"
   ]
  },
  {
   "cell_type": "code",
   "execution_count": 80,
   "metadata": {},
   "outputs": [
    {
     "name": "stdout",
     "output_type": "stream",
     "text": [
      "Rajnikanth"
     ]
    }
   ],
   "source": [
    "name = \"Rajnikanth Thaliava\"\n",
    "for alpha in name[:10]:\n",
    "    print(alpha,end=\"\")"
   ]
  },
  {
   "cell_type": "code",
   "execution_count": 89,
   "metadata": {},
   "outputs": [
    {
     "name": "stdout",
     "output_type": "stream",
     "text": [
      "['W', 'll Sm', 'th']\n",
      "<class 'str'>\n",
      "<class 'list'>\n"
     ]
    }
   ],
   "source": [
    "name =\"Will Smith\"\n",
    "newlist = name.split('i')\n",
    "print(newlist)\n",
    "print(type(name))\n",
    "print(type(newlist))"
   ]
  },
  {
   "cell_type": "code",
   "execution_count": 90,
   "metadata": {},
   "outputs": [
    {
     "name": "stdout",
     "output_type": "stream",
     "text": [
      "Amit\n",
      "bh B\n",
      "cch\n",
      "n\n"
     ]
    }
   ],
   "source": [
    "name = \"Amitabh Bacchan\"\n",
    "for word in name.split('a'):\n",
    "    print(word)"
   ]
  },
  {
   "cell_type": "code",
   "execution_count": 91,
   "metadata": {},
   "outputs": [
    {
     "name": "stdout",
     "output_type": "stream",
     "text": [
      "<class 'tuple'>\n",
      "0 11\n",
      "1 112\n",
      "2 13\n",
      "3 44\n",
      "4 65\n",
      "5 66\n",
      "6 77\n"
     ]
    }
   ],
   "source": [
    "t1 = (11,112,13,44,65,66,77)\n",
    "print(type(t1))\n",
    "for i in range(len(t1)):\n",
    "    print(i, t1[i])"
   ]
  },
  {
   "cell_type": "code",
   "execution_count": 93,
   "metadata": {},
   "outputs": [
    {
     "name": "stdout",
     "output_type": "stream",
     "text": [
      "<class 'dict'>\n",
      "Friends Jennifer\n",
      "TBBH Sheldon\n",
      "78 matrix\n",
      "GOT 89\n"
     ]
    }
   ],
   "source": [
    "d1 = {'Friends':'Jennifer','TBBH':'Sheldon',78:'matrix','GOT':89}\n",
    "print(type(d1))\n",
    "for i in d1:\n",
    "    print(i,d1[i])"
   ]
  },
  {
   "cell_type": "code",
   "execution_count": 94,
   "metadata": {},
   "outputs": [
    {
     "name": "stdout",
     "output_type": "stream",
     "text": [
      "12  is even\n",
      "14  is even\n",
      "16  is even\n",
      "18  is even\n",
      "20  is even\n",
      "21  is odd\n",
      "23  is odd\n",
      "25  is odd\n",
      "27  is odd\n",
      "29  is odd\n"
     ]
    }
   ],
   "source": [
    "s1 ={12,14,16,18,20,21,23,25,27,29}\n",
    "for i in s1:\n",
    "    if(i%2==0):\n",
    "        print(i,' is even')\n",
    "    else:\n",
    "        print(i,' is odd')"
   ]
  },
  {
   "cell_type": "markdown",
   "metadata": {},
   "source": [
    "<p><b> for-else loop</b><br>\n",
    "As there is no condition as to when else code will be executed, else code will be executed just after the execution of for block.</p>"
   ]
  },
  {
   "cell_type": "code",
   "execution_count": 96,
   "metadata": {},
   "outputs": [
    {
     "name": "stdout",
     "output_type": "stream",
     "text": [
      "loops\n",
      "conditions\n",
      "switch\n",
      "Else code\n"
     ]
    }
   ],
   "source": [
    "l2 = ['loops','conditions','switch'] \n",
    "for i in range(len(l2)): \n",
    "    print(l2[i])\n",
    "else: \n",
    "    print(\"Else code\")"
   ]
  },
  {
   "cell_type": "code",
   "execution_count": 97,
   "metadata": {},
   "outputs": [
    {
     "name": "stdout",
     "output_type": "stream",
     "text": [
      "list does not have no.s divisble by 3\n"
     ]
    }
   ],
   "source": [
    "list1 =[1,2,4,5,7,8]\n",
    "for i in list1: \n",
    "    if i%3 == 0: \n",
    "        print(\"list has no.s divisble by 3\") \n",
    "        break\n",
    "else:\n",
    "    print(\"list does not have no.s divisble by 3\")"
   ]
  },
  {
   "cell_type": "markdown",
   "metadata": {},
   "source": [
    "<b>Nested for loops</b>"
   ]
  },
  {
   "cell_type": "code",
   "execution_count": 101,
   "metadata": {},
   "outputs": [
    {
     "name": "stdout",
     "output_type": "stream",
     "text": [
      "\n",
      "1 \n",
      "1 2 \n",
      "1 2 3 \n",
      "1 2 3 4 \n",
      "1 2 3 4 5 \n",
      "1 2 3 4 5 6 \n"
     ]
    }
   ],
   "source": [
    "for i in range(1,8):  # 1-7\n",
    "    for j in range(1,i): # \n",
    "         print(j,end=' ')\n",
    "    print()"
   ]
  },
  {
   "cell_type": "code",
   "execution_count": 2,
   "metadata": {},
   "outputs": [
    {
     "name": "stdout",
     "output_type": "stream",
     "text": [
      "\n",
      "1 \n",
      "1 2 \n",
      "1 2 3 \n",
      "1 2 3 4 \n",
      "1 2 3 4 5 \n",
      "1 2 3 4 5 6 \n",
      "1 2 3 4 5 6 7 \n",
      "1 2 3 4 5 6 7 8 \n",
      "1 2 3 4 5 6 7 8 9 \n"
     ]
    }
   ],
   "source": [
    "for i in range(1,11):\n",
    "    for j in range(1,i):\n",
    "        print(j,end=' ')\n",
    "    print()"
   ]
  },
  {
   "cell_type": "markdown",
   "metadata": {},
   "source": [
    "### Loop Control Statements"
   ]
  },
  {
   "cell_type": "markdown",
   "metadata": {},
   "source": [
    "<ol>\n",
    "<li><b>continue -</b> Returns the control to the beginning of the loop. </li>\n",
    "<li><b>break -</b> Returns the control out of the loop</li>\n",
    "<li><b>pass -</b>Does nothing. Used to write empty loops</li>\n",
    "</ol>"
   ]
  },
  {
   "cell_type": "code",
   "execution_count": 106,
   "metadata": {},
   "outputs": [],
   "source": [
    "for i in range(5):\n",
    "    pass"
   ]
  },
  {
   "cell_type": "code",
   "execution_count": 58,
   "metadata": {},
   "outputs": [
    {
     "name": "stdout",
     "output_type": "stream",
     "text": [
      "10\n",
      "11\n",
      "12\n"
     ]
    }
   ],
   "source": [
    "for i in range(10,20):\n",
    "    if(i%3==0):\n",
    "        print(i)\n",
    "        break\n",
    "    else:\n",
    "        print(i)"
   ]
  },
  {
   "cell_type": "code",
   "execution_count": 3,
   "metadata": {},
   "outputs": [
    {
     "name": "stdout",
     "output_type": "stream",
     "text": [
      "10\n",
      "11\n",
      "12\n",
      "13\n",
      "14\n",
      "15\n",
      "16\n",
      "17\n",
      "18\n",
      "19\n"
     ]
    }
   ],
   "source": [
    "for i in range(10,20):\n",
    "    if(i%3==0):\n",
    "        print(i)\n",
    "    else:\n",
    "        print(i)"
   ]
  },
  {
   "cell_type": "code",
   "execution_count": 109,
   "metadata": {},
   "outputs": [
    {
     "name": "stdout",
     "output_type": "stream",
     "text": [
      "10\n",
      "11\n",
      "12\n",
      "13\n",
      "14\n",
      "15\n",
      "16\n",
      "17\n",
      "18\n",
      "19\n"
     ]
    }
   ],
   "source": [
    "for i in range(10,20):\n",
    "    if(i%3==0):\n",
    "        print(i)\n",
    "        continue\n",
    "    else:\n",
    "        print(i)"
   ]
  },
  {
   "cell_type": "code",
   "execution_count": 6,
   "metadata": {},
   "outputs": [
    {
     "name": "stdout",
     "output_type": "stream",
     "text": [
      "Enter a number\n",
      "-23\n",
      "23.0\n"
     ]
    }
   ],
   "source": [
    "#Write a program to print absolute vlaue of a number entered by user. E.g.-\n",
    "#INPUT: 1        OUTPUT: 1\n",
    "#INPUT: -1        OUTPUT: 1\n",
    "\n",
    "print(\"Enter a number\")\n",
    "v = float(input())\n",
    "if v < 0:\n",
    "    print(v*(-1))\n",
    "else:\n",
    "    print(v)"
   ]
  },
  {
   "cell_type": "code",
   "execution_count": 4,
   "metadata": {},
   "outputs": [
    {
     "name": "stdout",
     "output_type": "stream",
     "text": [
      "10\n",
      "11\n",
      "12\n",
      "13\n",
      "14\n",
      "15\n",
      "16\n",
      "17\n",
      "18\n",
      "19\n"
     ]
    }
   ],
   "source": [
    "for i in range(10,20):\n",
    "    if(i%3==0):\n",
    "        print(i)\n",
    "    else:\n",
    "        print(i)"
   ]
  },
  {
   "cell_type": "code",
   "execution_count": 8,
   "metadata": {},
   "outputs": [
    {
     "name": "stdout",
     "output_type": "stream",
     "text": [
      "Enter the total clssess held\n",
      "766\n",
      "Enter the classess attended\n",
      "467\n"
     ]
    },
    {
     "ename": "NameError",
     "evalue": "name 'percent_of_class_attended' is not defined",
     "output_type": "error",
     "traceback": [
      "\u001b[1;31m---------------------------------------------------------------------------\u001b[0m",
      "\u001b[1;31mNameError\u001b[0m                                 Traceback (most recent call last)",
      "\u001b[1;32m<ipython-input-8-6f8c99db0184>\u001b[0m in \u001b[0;36m<module>\u001b[1;34m\u001b[0m\n\u001b[0;32m     12\u001b[0m \u001b[0mprint\u001b[0m\u001b[1;33m(\u001b[0m\u001b[1;34m'Enter the classess attended'\u001b[0m\u001b[1;33m)\u001b[0m\u001b[1;33m\u001b[0m\u001b[1;33m\u001b[0m\u001b[0m\n\u001b[0;32m     13\u001b[0m \u001b[0mattended_classess\u001b[0m \u001b[1;33m=\u001b[0m \u001b[0mfloat\u001b[0m\u001b[1;33m(\u001b[0m\u001b[0minput\u001b[0m\u001b[1;33m(\u001b[0m\u001b[1;33m)\u001b[0m\u001b[1;33m)\u001b[0m\u001b[1;33m\u001b[0m\u001b[1;33m\u001b[0m\u001b[0m\n\u001b[1;32m---> 14\u001b[1;33m \u001b[0mpercent_of_class_attended\u001b[0m \u001b[1;33m==\u001b[0m \u001b[1;33m(\u001b[0m\u001b[0mattended_classess\u001b[0m\u001b[1;33m/\u001b[0m\u001b[0mtotal_classess\u001b[0m\u001b[1;33m)\u001b[0m\u001b[1;33m*\u001b[0m\u001b[1;36m100\u001b[0m\u001b[1;33m\u001b[0m\u001b[1;33m\u001b[0m\u001b[0m\n\u001b[0m\u001b[0;32m     15\u001b[0m \u001b[1;32mif\u001b[0m \u001b[0mpercent_of_class_attended\u001b[0m \u001b[1;33m>=\u001b[0m \u001b[1;36m75\u001b[0m\u001b[1;33m:\u001b[0m\u001b[1;33m\u001b[0m\u001b[1;33m\u001b[0m\u001b[0m\n\u001b[0;32m     16\u001b[0m     \u001b[0mprint\u001b[0m\u001b[1;33m(\u001b[0m\u001b[1;34m'She can take the exam'\u001b[0m\u001b[1;33m)\u001b[0m\u001b[1;33m\u001b[0m\u001b[1;33m\u001b[0m\u001b[0m\n",
      "\u001b[1;31mNameError\u001b[0m: name 'percent_of_class_attended' is not defined"
     ]
    }
   ],
   "source": [
    "#A student will not be allowed to sit in exam if his/her attendence is less than 75%.\n",
    "#Take following input from user\n",
    "#Number of classes held\n",
    "#Number of classes attended.\n",
    "#And print\n",
    "#percentage of class attended\n",
    "#Is student is allowed to sit in exam or not.\n",
    "\n",
    "\n",
    "print('Enter the total clssess held')\n",
    "total_classes = float(input())\n",
    "print('Enter the classess attended')\n",
    "attended_classess = float(input())\n",
    "percent_of_class_attended == (attended_classess/total_classess)*100\n",
    "if percent_of_class_attended >= 75:\n",
    "    print('She can take the exam')\n",
    "else:\n",
    "    print('She is not eligible to take the exam')"
   ]
  },
  {
   "cell_type": "code",
   "execution_count": 63,
   "metadata": {},
   "outputs": [
    {
     "name": "stdout",
     "output_type": "stream",
     "text": [
      "10\n",
      "11\n",
      "13\n",
      "14\n",
      "16\n",
      "17\n",
      "19\n"
     ]
    }
   ],
   "source": [
    "for i in range(10,20):\n",
    "    if(i%3==0):\n",
    "        continue\n",
    "    else:\n",
    "        print(i)"
   ]
  },
  {
   "cell_type": "code",
   "execution_count": 64,
   "metadata": {},
   "outputs": [],
   "source": [
    "for i in range(3):\n",
    "    continue\n",
    "    print(i)"
   ]
  },
  {
   "cell_type": "code",
   "execution_count": 65,
   "metadata": {},
   "outputs": [
    {
     "name": "stdout",
     "output_type": "stream",
     "text": [
      "0\n",
      "1\n",
      "2\n"
     ]
    }
   ],
   "source": [
    "for i in range(3):\n",
    "    pass\n",
    "    print(i)"
   ]
  },
  {
   "cell_type": "code",
   "execution_count": 5,
   "metadata": {},
   "outputs": [],
   "source": [
    "for i in range(3):\n",
    "    break\n",
    "    print(i)"
   ]
  },
  {
   "cell_type": "code",
   "execution_count": null,
   "metadata": {},
   "outputs": [],
   "source": []
  },
  {
   "cell_type": "code",
   "execution_count": null,
   "metadata": {},
   "outputs": [],
   "source": []
  },
  {
   "cell_type": "code",
   "execution_count": null,
   "metadata": {},
   "outputs": [],
   "source": []
  },
  {
   "cell_type": "code",
   "execution_count": null,
   "metadata": {},
   "outputs": [],
   "source": []
  },
  {
   "cell_type": "code",
   "execution_count": null,
   "metadata": {},
   "outputs": [],
   "source": []
  },
  {
   "cell_type": "code",
   "execution_count": null,
   "metadata": {},
   "outputs": [],
   "source": []
  },
  {
   "cell_type": "code",
   "execution_count": null,
   "metadata": {},
   "outputs": [],
   "source": []
  },
  {
   "cell_type": "code",
   "execution_count": null,
   "metadata": {},
   "outputs": [],
   "source": []
  },
  {
   "cell_type": "code",
   "execution_count": null,
   "metadata": {},
   "outputs": [],
   "source": []
  },
  {
   "cell_type": "code",
   "execution_count": null,
   "metadata": {},
   "outputs": [],
   "source": []
  },
  {
   "cell_type": "code",
   "execution_count": null,
   "metadata": {},
   "outputs": [],
   "source": []
  },
  {
   "cell_type": "code",
   "execution_count": null,
   "metadata": {},
   "outputs": [],
   "source": []
  },
  {
   "cell_type": "code",
   "execution_count": 8,
   "metadata": {},
   "outputs": [],
   "source": []
  },
  {
   "cell_type": "code",
   "execution_count": null,
   "metadata": {},
   "outputs": [],
   "source": []
  },
  {
   "cell_type": "code",
   "execution_count": 13,
   "metadata": {},
   "outputs": [],
   "source": []
  },
  {
   "cell_type": "code",
   "execution_count": null,
   "metadata": {},
   "outputs": [],
   "source": []
  },
  {
   "cell_type": "code",
   "execution_count": null,
   "metadata": {},
   "outputs": [],
   "source": []
  },
  {
   "cell_type": "code",
   "execution_count": 17,
   "metadata": {},
   "outputs": [],
   "source": []
  },
  {
   "cell_type": "code",
   "execution_count": null,
   "metadata": {},
   "outputs": [],
   "source": []
  },
  {
   "cell_type": "code",
   "execution_count": null,
   "metadata": {},
   "outputs": [],
   "source": []
  }
 ],
 "metadata": {
  "kernelspec": {
   "display_name": "Python 3",
   "language": "python",
   "name": "python3"
  },
  "language_info": {
   "codemirror_mode": {
    "name": "ipython",
    "version": 3
   },
   "file_extension": ".py",
   "mimetype": "text/x-python",
   "name": "python",
   "nbconvert_exporter": "python",
   "pygments_lexer": "ipython3",
   "version": "3.7.3"
  }
 },
 "nbformat": 4,
 "nbformat_minor": 2
}
