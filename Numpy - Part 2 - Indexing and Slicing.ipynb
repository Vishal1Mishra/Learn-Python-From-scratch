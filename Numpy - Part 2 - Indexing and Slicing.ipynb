{
 "cells": [
  {
   "cell_type": "code",
   "execution_count": null,
   "metadata": {},
   "outputs": [],
   "source": []
  },
  {
   "cell_type": "code",
   "execution_count": 70,
   "metadata": {},
   "outputs": [],
   "source": [
    "import numpy as np"
   ]
  },
  {
   "cell_type": "code",
   "execution_count": 10,
   "metadata": {},
   "outputs": [
    {
     "name": "stdout",
     "output_type": "stream",
     "text": [
      "[11 12 13 14 15]\n",
      "<class 'numpy.ndarray'>\n"
     ]
    }
   ],
   "source": [
    "a = np.array([11,12,13,14,15])\n",
    "print(a)\n",
    "print(type(a))"
   ]
  },
  {
   "cell_type": "code",
   "execution_count": 11,
   "metadata": {},
   "outputs": [
    {
     "name": "stdout",
     "output_type": "stream",
     "text": [
      "[21 21 23 24 25]\n",
      "<class 'numpy.ndarray'>\n"
     ]
    }
   ],
   "source": [
    "a1 = np.asarray([21,21,23,24,25])\n",
    "print(a1)\n",
    "print(type(a1))"
   ]
  },
  {
   "cell_type": "code",
   "execution_count": 14,
   "metadata": {},
   "outputs": [
    {
     "name": "stdout",
     "output_type": "stream",
     "text": [
      "[ 3  4  5  6  7  8  9 10 11 12 13 14 15 16 17 18 19 20]\n",
      "<class 'numpy.ndarray'>\n",
      "18\n"
     ]
    }
   ],
   "source": [
    "a2 = np.arange(3,21)\n",
    "print(a2)\n",
    "print(type(a2))\n",
    "print(len(a2))"
   ]
  },
  {
   "cell_type": "markdown",
   "metadata": {},
   "source": [
    "### Indexing and Slicing in 1D array"
   ]
  },
  {
   "cell_type": "code",
   "execution_count": 15,
   "metadata": {},
   "outputs": [
    {
     "name": "stdout",
     "output_type": "stream",
     "text": [
      "[12 13 14 15 16 17 18 19 20 21 22 23 24 25]\n",
      "<class 'numpy.ndarray'>\n",
      "14\n"
     ]
    }
   ],
   "source": [
    "a = np.array([12,13,14,15,16,17,18,19,20,21,22,23,24,25])\n",
    "print(a)\n",
    "print(type(a))\n",
    "print(len(a))"
   ]
  },
  {
   "cell_type": "code",
   "execution_count": 17,
   "metadata": {},
   "outputs": [
    {
     "name": "stdout",
     "output_type": "stream",
     "text": [
      "12\n",
      "16\n",
      "20\n",
      "24\n",
      "19\n",
      "21\n"
     ]
    }
   ],
   "source": [
    "# Indexing in 1D array\n",
    "print(a[0]) # 12\n",
    "print(a[4]) # 16\n",
    "print(a[8]) # 20 \n",
    "print(a[-2]) # 19 \n",
    "print(a[-7]) # 14\n",
    "print(a[-5]) # 16"
   ]
  },
  {
   "cell_type": "code",
   "execution_count": 18,
   "metadata": {},
   "outputs": [
    {
     "name": "stdout",
     "output_type": "stream",
     "text": [
      "[12 13 14 15 16 17 18 19 20 21 22 23 24 25]\n"
     ]
    }
   ],
   "source": [
    "print(a)"
   ]
  },
  {
   "cell_type": "code",
   "execution_count": 20,
   "metadata": {},
   "outputs": [
    {
     "name": "stdout",
     "output_type": "stream",
     "text": [
      "[12 13 14 15 16 17 18 19 20 21 22 23 24 25]\n",
      "[14 15 16]\n",
      "[15 16 17 18 19 20 21 22 23 24 25]\n",
      "[12 13 14 15 16 17]\n",
      "[22 23 24 25]\n",
      "[12 13 14 15 16 17 18 19]\n",
      "[12 13 14 15 16 17 18 19 20 21 22 23 24 25]\n",
      "[13 15 17 19]\n",
      "[15 16 17 18]\n",
      "[15 17]\n",
      "[24 22 20]\n",
      "[24 21 18]\n",
      "[15 18]\n"
     ]
    }
   ],
   "source": [
    "# Slicing in 1D array\n",
    "print(a)\n",
    "print(a[2:5])\n",
    "print(a[3:])\n",
    "print(a[:6])\n",
    "print(a[-4:])\n",
    "print(a[:-6])\n",
    "print(a[:])\n",
    "print(a[1:8:2])\n",
    "print(a[3:-7])\n",
    "print(a[3:-7:2])\n",
    "print(a[-2:-8:-2])\n",
    "print(a[-2:3:-3])\n",
    "print(a[3:8:3])"
   ]
  },
  {
   "cell_type": "code",
   "execution_count": 15,
   "metadata": {},
   "outputs": [
    {
     "name": "stdout",
     "output_type": "stream",
     "text": [
      "[12 13 14 15 16 17 18 19 20 21 22 23 24 25]\n",
      "----------\n",
      "[25 24 23 22 21 20 19 18 17 16 15 14 13 12]\n",
      "-----------\n",
      "[15 16 17 18 19 20 21 22 23]\n",
      "-----------\n",
      "[]\n",
      "-----------\n",
      "[]\n"
     ]
    }
   ],
   "source": [
    "# Slicing in 1D array - special cases\n",
    "print(a)\n",
    "print('----------')\n",
    "print(a[::-1]) #Reverse\n",
    "print('-----------')\n",
    "print(a[3:-2])\n",
    "print('-----------')\n",
    "print(a[-2:-11])\n",
    "print('-----------')\n",
    "print(a[3:-4:-1])"
   ]
  },
  {
   "cell_type": "markdown",
   "metadata": {},
   "source": [
    "### Indexing and Slicing in 2D array"
   ]
  },
  {
   "cell_type": "code",
   "execution_count": 24,
   "metadata": {},
   "outputs": [
    {
     "name": "stdout",
     "output_type": "stream",
     "text": [
      "[[31 32 33 34]\n",
      " [35 36 37 38]\n",
      " [39 40 41 42]\n",
      " [43 44 45 46]]\n"
     ]
    }
   ],
   "source": [
    "b = np.array([[31,32,33,34],[35,36,37,38],\n",
    "              [39,40,41,42],[43,44,45,46]])\n",
    "print(b)"
   ]
  },
  {
   "cell_type": "code",
   "execution_count": 26,
   "metadata": {},
   "outputs": [
    {
     "name": "stdout",
     "output_type": "stream",
     "text": [
      "39\n",
      "45\n",
      "40\n",
      "46\n"
     ]
    }
   ],
   "source": [
    "# Indexing in 2D array\n",
    "print(b[2][0])\n",
    "print(b[-1][-2])\n",
    "print(b[2][-3])\n",
    "print(b[-1][3])"
   ]
  },
  {
   "cell_type": "code",
   "execution_count": 27,
   "metadata": {},
   "outputs": [
    {
     "name": "stdout",
     "output_type": "stream",
     "text": [
      "[[31 32 33 34]\n",
      " [35 36 37 38]\n",
      " [39 40 41 42]\n",
      " [43 44 45 46]]\n"
     ]
    }
   ],
   "source": [
    "print(b)"
   ]
  },
  {
   "cell_type": "code",
   "execution_count": 28,
   "metadata": {},
   "outputs": [
    {
     "name": "stdout",
     "output_type": "stream",
     "text": [
      "[39 40 41 42]\n",
      "-----------\n",
      "[[43 44 45 46]]\n",
      "-----------\n",
      "[[39 40 41 42]\n",
      " [43 44 45 46]]\n",
      "-----------\n",
      "[[32 33 34]\n",
      " [36 37 38]\n",
      " [40 41 42]\n",
      " [44 45 46]]\n",
      "-----------\n",
      "[[40 41 42]\n",
      " [44 45 46]]\n",
      "-----------\n",
      "[[31 32]\n",
      " [35 36]]\n"
     ]
    }
   ],
   "source": [
    "# Indexing and Slicing in 2D array\n",
    "print(b[2])\n",
    "print('-----------')\n",
    "print(b[3:])\n",
    "print('-----------')\n",
    "print(b[2:,:])\n",
    "print('-----------')\n",
    "print(b[:,1:])\n",
    "print('-----------')\n",
    "print(b[2:,1:])\n",
    "print('-----------')\n",
    "print(b[:2,:2])"
   ]
  },
  {
   "cell_type": "code",
   "execution_count": 29,
   "metadata": {},
   "outputs": [
    {
     "name": "stdout",
     "output_type": "stream",
     "text": [
      "[[31 32 33 34]\n",
      " [35 36 37 38]\n",
      " [39 40 41 42]\n",
      " [43 44 45 46]]\n"
     ]
    }
   ],
   "source": [
    "print(b)"
   ]
  },
  {
   "cell_type": "code",
   "execution_count": 32,
   "metadata": {},
   "outputs": [
    {
     "name": "stdout",
     "output_type": "stream",
     "text": [
      "[43 44 45 46]\n",
      "--------\n",
      "[[31 32 33 34]\n",
      " [35 36 37 38]\n",
      " [39 40 41 42]]\n",
      "--------\n",
      "[34 38 42 46]\n",
      "--------\n",
      "[39 40]\n"
     ]
    }
   ],
   "source": [
    "print(b[-1])\n",
    "print('--------')\n",
    "print(b[:-1])\n",
    "print('--------')\n",
    "print(b[:,-1])\n",
    "print('--------')\n",
    "print(b[-2,:-2])"
   ]
  },
  {
   "cell_type": "code",
   "execution_count": 33,
   "metadata": {},
   "outputs": [
    {
     "name": "stdout",
     "output_type": "stream",
     "text": [
      "[[31 32 33 34]\n",
      " [35 36 37 38]\n",
      " [39 40 41 42]\n",
      " [43 44 45 46]]\n"
     ]
    }
   ],
   "source": [
    "print(b)"
   ]
  },
  {
   "cell_type": "code",
   "execution_count": 42,
   "metadata": {},
   "outputs": [
    {
     "name": "stdout",
     "output_type": "stream",
     "text": [
      "[[39 40 41]\n",
      " [43 44 45]]\n"
     ]
    }
   ],
   "source": [
    "print(b[-2:,:-1])"
   ]
  },
  {
   "cell_type": "code",
   "execution_count": 43,
   "metadata": {},
   "outputs": [
    {
     "name": "stdout",
     "output_type": "stream",
     "text": [
      "[[37 38]\n",
      " [41 42]\n",
      " [45 46]]\n"
     ]
    }
   ],
   "source": [
    "print(b[1:,2:])"
   ]
  },
  {
   "cell_type": "code",
   "execution_count": 44,
   "metadata": {},
   "outputs": [
    {
     "name": "stdout",
     "output_type": "stream",
     "text": [
      "[[31 32 33 34]\n",
      " [35 36 37 38]]\n"
     ]
    }
   ],
   "source": [
    "print(b[:2,0:])"
   ]
  },
  {
   "cell_type": "code",
   "execution_count": 34,
   "metadata": {},
   "outputs": [
    {
     "name": "stdout",
     "output_type": "stream",
     "text": [
      "[[31 32 33 34]\n",
      " [39 40 41 42]]\n"
     ]
    }
   ],
   "source": [
    "# Slicing in 2d array\n",
    "print(b[::2,:])"
   ]
  },
  {
   "cell_type": "code",
   "execution_count": 35,
   "metadata": {},
   "outputs": [
    {
     "name": "stdout",
     "output_type": "stream",
     "text": [
      "[[31 33]\n",
      " [35 37]]\n"
     ]
    }
   ],
   "source": [
    "print(b[:2,::2])"
   ]
  },
  {
   "cell_type": "code",
   "execution_count": 36,
   "metadata": {},
   "outputs": [
    {
     "name": "stdout",
     "output_type": "stream",
     "text": [
      "[[36 38]\n",
      " [44 46]]\n"
     ]
    }
   ],
   "source": [
    "print(b[1::2,1::2])"
   ]
  },
  {
   "cell_type": "code",
   "execution_count": 37,
   "metadata": {},
   "outputs": [
    {
     "name": "stdout",
     "output_type": "stream",
     "text": [
      "[[31 34]\n",
      " [39 42]]\n"
     ]
    }
   ],
   "source": [
    "print(b[0::2,0::3])"
   ]
  },
  {
   "cell_type": "code",
   "execution_count": 41,
   "metadata": {},
   "outputs": [
    {
     "name": "stdout",
     "output_type": "stream",
     "text": [
      "[32]\n"
     ]
    }
   ],
   "source": [
    "print(b[-4::-2,-3])"
   ]
  },
  {
   "cell_type": "code",
   "execution_count": 42,
   "metadata": {},
   "outputs": [
    {
     "name": "stdout",
     "output_type": "stream",
     "text": [
      "[[32 31]]\n"
     ]
    }
   ],
   "source": [
    "print(b[-4::-2,-3::-1])"
   ]
  },
  {
   "cell_type": "code",
   "execution_count": 43,
   "metadata": {},
   "outputs": [
    {
     "data": {
      "text/plain": [
       "array([[31, 32],\n",
       "       [35, 36],\n",
       "       [39, 40],\n",
       "       [43, 44]])"
      ]
     },
     "execution_count": 43,
     "metadata": {},
     "output_type": "execute_result"
    }
   ],
   "source": [
    "b[0:,:2]"
   ]
  },
  {
   "cell_type": "code",
   "execution_count": 51,
   "metadata": {},
   "outputs": [
    {
     "data": {
      "text/plain": [
       "array([[31, 32, 33, 34],\n",
       "       [35, 36, 37, 38],\n",
       "       [39, 40, 41, 42],\n",
       "       [43, 44, 45, 46]])"
      ]
     },
     "execution_count": 51,
     "metadata": {},
     "output_type": "execute_result"
    }
   ],
   "source": [
    "### Advanced Indexing\n",
    "b"
   ]
  },
  {
   "cell_type": "code",
   "execution_count": 45,
   "metadata": {},
   "outputs": [
    {
     "data": {
      "text/plain": [
       "array([32, 42, 37, 44])"
      ]
     },
     "execution_count": 45,
     "metadata": {},
     "output_type": "execute_result"
    }
   ],
   "source": [
    "b[[0,2,1,3],[1,3,2,1]]"
   ]
  },
  {
   "cell_type": "code",
   "execution_count": 46,
   "metadata": {},
   "outputs": [
    {
     "data": {
      "text/plain": [
       "array([32, 42])"
      ]
     },
     "execution_count": 46,
     "metadata": {},
     "output_type": "execute_result"
    }
   ],
   "source": [
    "b[[0,2],[1,3]]"
   ]
  },
  {
   "cell_type": "code",
   "execution_count": 55,
   "metadata": {},
   "outputs": [
    {
     "data": {
      "text/plain": [
       "array([42, 35, 41, 32])"
      ]
     },
     "execution_count": 55,
     "metadata": {},
     "output_type": "execute_result"
    }
   ],
   "source": [
    "b[[2,1,2,0],[3,0,2,1]]"
   ]
  },
  {
   "cell_type": "code",
   "execution_count": 47,
   "metadata": {},
   "outputs": [
    {
     "data": {
      "text/plain": [
       "array([31, 36, 41, 46])"
      ]
     },
     "execution_count": 47,
     "metadata": {},
     "output_type": "execute_result"
    }
   ],
   "source": [
    "b[[0,1,2,3],[0,1,2,3]]"
   ]
  },
  {
   "cell_type": "code",
   "execution_count": 48,
   "metadata": {},
   "outputs": [
    {
     "data": {
      "text/plain": [
       "array([42, 35, 41, 32])"
      ]
     },
     "execution_count": 48,
     "metadata": {},
     "output_type": "execute_result"
    }
   ],
   "source": [
    "b[[2,1,2,0],[3,0,2,1]]"
   ]
  },
  {
   "cell_type": "code",
   "execution_count": 49,
   "metadata": {},
   "outputs": [
    {
     "data": {
      "text/plain": [
       "array([31, 36, 41, 46])"
      ]
     },
     "execution_count": 49,
     "metadata": {},
     "output_type": "execute_result"
    }
   ],
   "source": [
    "b[[0,1,2,3],[0,1,2,3]]"
   ]
  },
  {
   "cell_type": "code",
   "execution_count": 51,
   "metadata": {},
   "outputs": [
    {
     "data": {
      "text/plain": [
       "array([34, 37, 40, 43])"
      ]
     },
     "execution_count": 51,
     "metadata": {},
     "output_type": "execute_result"
    }
   ],
   "source": [
    "b[[0,1,2,3],[3,2,1,0]]"
   ]
  },
  {
   "cell_type": "code",
   "execution_count": null,
   "metadata": {},
   "outputs": [],
   "source": []
  },
  {
   "cell_type": "markdown",
   "metadata": {},
   "source": [
    "### Indexing and Slicing in 3D "
   ]
  },
  {
   "cell_type": "code",
   "execution_count": 77,
   "metadata": {},
   "outputs": [
    {
     "data": {
      "text/plain": [
       "array([[[ 0,  1,  2],\n",
       "        [ 3,  4,  5],\n",
       "        [ 6,  7,  8],\n",
       "        [ 9, 10, 11]],\n",
       "\n",
       "       [[12, 13, 14],\n",
       "        [15, 16, 17],\n",
       "        [18, 19, 20],\n",
       "        [21, 22, 23]]])"
      ]
     },
     "execution_count": 77,
     "metadata": {},
     "output_type": "execute_result"
    }
   ],
   "source": [
    "a = np.arange(24).reshape(2,4,3)\n",
    "a"
   ]
  },
  {
   "cell_type": "code",
   "execution_count": 54,
   "metadata": {},
   "outputs": [
    {
     "name": "stdout",
     "output_type": "stream",
     "text": [
      "7\n",
      "21\n",
      "[[12 13 14]\n",
      " [15 16 17]\n",
      " [18 19 20]\n",
      " [21 22 23]]\n",
      "[[ 0  1  2]\n",
      " [ 3  4  5]\n",
      " [ 6  7  8]\n",
      " [ 9 10 11]]\n"
     ]
    }
   ],
   "source": [
    "# Indexing in 3D array\n",
    "print(a[0][2][1])\n",
    "print(a[1][3][0])\n",
    "print(a[-1])\n",
    "print(a[-2])"
   ]
  },
  {
   "cell_type": "code",
   "execution_count": 55,
   "metadata": {},
   "outputs": [
    {
     "name": "stdout",
     "output_type": "stream",
     "text": [
      "[18 19 20]\n",
      "18\n"
     ]
    }
   ],
   "source": [
    "# print(a[-2])\n",
    "print(a[-1][-2])\n",
    "print(a[-1][-2][-3])"
   ]
  },
  {
   "cell_type": "code",
   "execution_count": 57,
   "metadata": {},
   "outputs": [
    {
     "name": "stdout",
     "output_type": "stream",
     "text": [
      "2\n",
      "[[[ 0  1  2]\n",
      "  [ 3  4  5]\n",
      "  [ 6  7  8]\n",
      "  [ 9 10 11]]\n",
      "\n",
      " [[12 13 14]\n",
      "  [15 16 17]\n",
      "  [18 19 20]\n",
      "  [21 22 23]]]\n"
     ]
    }
   ],
   "source": [
    "print(a[-2][0][-1])\n",
    "print(a)"
   ]
  },
  {
   "cell_type": "code",
   "execution_count": 58,
   "metadata": {},
   "outputs": [
    {
     "name": "stdout",
     "output_type": "stream",
     "text": [
      "[[[17]\n",
      "  [20]\n",
      "  [23]]]\n",
      "----------\n",
      "[[[12 13]\n",
      "  [15 16]]]\n",
      "----------\n",
      "[[[10 11]]]\n"
     ]
    }
   ],
   "source": [
    "## Slicing in 3d array\n",
    "print(a[1:,1:,2:])\n",
    "print('----------')\n",
    "print(a[1:,:2,:2])\n",
    "print('----------')\n",
    "print(a[0:1,3:,1:])"
   ]
  },
  {
   "cell_type": "code",
   "execution_count": 11,
   "metadata": {},
   "outputs": [
    {
     "name": "stdout",
     "output_type": "stream",
     "text": [
      "[[[ 3  4]\n",
      "  [ 9 10]]\n",
      "\n",
      " [[15 16]\n",
      "  [21 22]]]\n"
     ]
    }
   ],
   "source": [
    "print(a[0:,1::2,:2])"
   ]
  },
  {
   "cell_type": "code",
   "execution_count": 59,
   "metadata": {},
   "outputs": [
    {
     "name": "stdout",
     "output_type": "stream",
     "text": [
      "[[[ 3  5]\n",
      "  [ 6  8]]\n",
      "\n",
      " [[15 17]\n",
      "  [18 20]]]\n"
     ]
    }
   ],
   "source": [
    "print(a[0:,1:3,0::2])"
   ]
  },
  {
   "cell_type": "code",
   "execution_count": 60,
   "metadata": {},
   "outputs": [
    {
     "name": "stdout",
     "output_type": "stream",
     "text": [
      "[[[12 13 14]\n",
      "  [15 16 17]\n",
      "  [18 19 20]\n",
      "  [21 22 23]]]\n"
     ]
    }
   ],
   "source": [
    "# Negative slicing in 3d array\n",
    "print(a[-1:,:,:])"
   ]
  },
  {
   "cell_type": "code",
   "execution_count": 61,
   "metadata": {},
   "outputs": [
    {
     "name": "stdout",
     "output_type": "stream",
     "text": [
      "[[[ 0  1  2]\n",
      "  [ 3  4  5]\n",
      "  [ 6  7  8]\n",
      "  [ 9 10 11]]]\n"
     ]
    }
   ],
   "source": [
    "print(a[:-1,:,:])"
   ]
  },
  {
   "cell_type": "code",
   "execution_count": 62,
   "metadata": {},
   "outputs": [
    {
     "name": "stdout",
     "output_type": "stream",
     "text": [
      "[[[18 19 20]\n",
      "  [21 22 23]]]\n"
     ]
    }
   ],
   "source": [
    "print(a[-1:,-2:,:])"
   ]
  },
  {
   "cell_type": "code",
   "execution_count": 129,
   "metadata": {},
   "outputs": [
    {
     "name": "stdout",
     "output_type": "stream",
     "text": [
      "[[[18 19 20]\n",
      "  [21 22 23]]\n",
      "\n",
      " [[ 6  7  8]\n",
      "  [ 9 10 11]]]\n"
     ]
    }
   ],
   "source": [
    "print(a[-1::-1,-2:,:])"
   ]
  },
  {
   "cell_type": "code",
   "execution_count": 79,
   "metadata": {},
   "outputs": [
    {
     "name": "stdout",
     "output_type": "stream",
     "text": [
      "[[[12 13 14]\n",
      "  [15 16 17]]]\n"
     ]
    }
   ],
   "source": [
    "print(a[-1:,:-2,:])"
   ]
  },
  {
   "cell_type": "code",
   "execution_count": 80,
   "metadata": {},
   "outputs": [
    {
     "name": "stdout",
     "output_type": "stream",
     "text": [
      "[[[14]\n",
      "  [17]]]\n"
     ]
    }
   ],
   "source": [
    "print(a[-1:,:-2,-1:])"
   ]
  },
  {
   "cell_type": "code",
   "execution_count": 81,
   "metadata": {},
   "outputs": [
    {
     "name": "stdout",
     "output_type": "stream",
     "text": [
      "[1 4 7]\n"
     ]
    }
   ],
   "source": [
    "print(a[-2,:-1,-2])"
   ]
  },
  {
   "cell_type": "code",
   "execution_count": 84,
   "metadata": {},
   "outputs": [
    {
     "name": "stdout",
     "output_type": "stream",
     "text": [
      "[[[ 0  1  2]\n",
      "  [ 3  4  5]\n",
      "  [ 6  7  8]\n",
      "  [ 9 10 11]]\n",
      "\n",
      " [[12 13 14]\n",
      "  [15 16 17]\n",
      "  [18 19 20]\n",
      "  [21 22 23]]]\n"
     ]
    }
   ],
   "source": [
    "print(a)"
   ]
  },
  {
   "cell_type": "code",
   "execution_count": 98,
   "metadata": {},
   "outputs": [
    {
     "name": "stdout",
     "output_type": "stream",
     "text": [
      "[[11  9]\n",
      " [ 5  3]]\n"
     ]
    }
   ],
   "source": [
    "print(a[-2,-1::-2,-1::-2])"
   ]
  },
  {
   "cell_type": "code",
   "execution_count": 96,
   "metadata": {},
   "outputs": [
    {
     "name": "stdout",
     "output_type": "stream",
     "text": [
      "[[[ 8  6]\n",
      "  [ 2  0]]\n",
      "\n",
      " [[20 18]\n",
      "  [14 12]]]\n"
     ]
    }
   ],
   "source": [
    "print(a[-2:,-2::-2,-1::-2])"
   ]
  },
  {
   "cell_type": "code",
   "execution_count": 102,
   "metadata": {},
   "outputs": [
    {
     "name": "stdout",
     "output_type": "stream",
     "text": [
      "[[10  4]\n",
      " [22 16]]\n"
     ]
    }
   ],
   "source": [
    "print(a[-2:,-1::-2,1])"
   ]
  },
  {
   "cell_type": "code",
   "execution_count": 104,
   "metadata": {},
   "outputs": [
    {
     "name": "stdout",
     "output_type": "stream",
     "text": [
      "[[[11  9]\n",
      "  [ 2  0]]\n",
      "\n",
      " [[23 21]\n",
      "  [14 12]]]\n"
     ]
    }
   ],
   "source": [
    "print(a[-2:,-1::-3,-1::-2])"
   ]
  },
  {
   "cell_type": "code",
   "execution_count": 122,
   "metadata": {},
   "outputs": [
    {
     "name": "stdout",
     "output_type": "stream",
     "text": [
      "[[[10 11]\n",
      "  [ 4  5]]\n",
      "\n",
      " [[22 23]\n",
      "  [16 17]]]\n"
     ]
    }
   ],
   "source": [
    "print(a[-2:,-1::-2,1:3])"
   ]
  },
  {
   "cell_type": "code",
   "execution_count": 127,
   "metadata": {},
   "outputs": [
    {
     "name": "stdout",
     "output_type": "stream",
     "text": [
      "[[[ 8  6]\n",
      "  [ 5  3]]\n",
      "\n",
      " [[20 18]\n",
      "  [17 15]]]\n"
     ]
    }
   ],
   "source": [
    "print(a[-2:,-2:-4:-1,-1::-2])"
   ]
  },
  {
   "cell_type": "code",
   "execution_count": 126,
   "metadata": {},
   "outputs": [
    {
     "name": "stdout",
     "output_type": "stream",
     "text": [
      "[[[ 4]\n",
      "  [ 7]]\n",
      "\n",
      " [[16]\n",
      "  [19]]]\n"
     ]
    }
   ],
   "source": [
    "print(a[0:,1:3,1:2])"
   ]
  },
  {
   "cell_type": "code",
   "execution_count": 113,
   "metadata": {},
   "outputs": [
    {
     "name": "stdout",
     "output_type": "stream",
     "text": [
      "[[[ 0  2]\n",
      "  [ 9 11]]\n",
      "\n",
      " [[12 14]\n",
      "  [21 23]]]\n"
     ]
    }
   ],
   "source": [
    "print(a[0:,::3,::2])"
   ]
  },
  {
   "cell_type": "code",
   "execution_count": 125,
   "metadata": {},
   "outputs": [
    {
     "name": "stdout",
     "output_type": "stream",
     "text": [
      "[[[ 0  2]\n",
      "  [ 9 11]]\n",
      "\n",
      " [[12 14]\n",
      "  [21 23]]]\n"
     ]
    }
   ],
   "source": [
    "print(a[:,0::3,0::2])"
   ]
  },
  {
   "cell_type": "code",
   "execution_count": 121,
   "metadata": {},
   "outputs": [
    {
     "name": "stdout",
     "output_type": "stream",
     "text": [
      "[[ 4  7]\n",
      " [16 19]]\n"
     ]
    }
   ],
   "source": [
    "print(a[0:,1:3,1])"
   ]
  },
  {
   "cell_type": "code",
   "execution_count": 116,
   "metadata": {},
   "outputs": [
    {
     "name": "stdout",
     "output_type": "stream",
     "text": [
      "[11 12 13 14 15 16 17 18 19 20 21 22 23]\n"
     ]
    }
   ],
   "source": [
    "# Advanced slicing\n",
    "print(a[a>10])"
   ]
  },
  {
   "cell_type": "code",
   "execution_count": 117,
   "metadata": {},
   "outputs": [
    {
     "name": "stdout",
     "output_type": "stream",
     "text": [
      "[ 1  2  3  4  6  7  8  9 11 12 13 14 16 17 18 19 21 22 23]\n"
     ]
    }
   ],
   "source": [
    "print(a[a%5!=0])"
   ]
  },
  {
   "cell_type": "code",
   "execution_count": 118,
   "metadata": {},
   "outputs": [
    {
     "data": {
      "text/plain": [
       "array([ 5, 18, 10, 14])"
      ]
     },
     "execution_count": 118,
     "metadata": {},
     "output_type": "execute_result"
    }
   ],
   "source": [
    "a[[0,1,0,1],[1,2,3,0],[2,0,1,2]]"
   ]
  },
  {
   "cell_type": "code",
   "execution_count": 119,
   "metadata": {},
   "outputs": [
    {
     "data": {
      "text/plain": [
       "array([ 0,  4,  8, 11])"
      ]
     },
     "execution_count": 119,
     "metadata": {},
     "output_type": "execute_result"
    }
   ],
   "source": [
    "a[[0,0,0,0],[0,1,2,3],[0,1,2,2]]"
   ]
  },
  {
   "cell_type": "code",
   "execution_count": null,
   "metadata": {},
   "outputs": [],
   "source": []
  }
 ],
 "metadata": {
  "kernelspec": {
   "display_name": "Python 3",
   "language": "python",
   "name": "python3"
  },
  "language_info": {
   "codemirror_mode": {
    "name": "ipython",
    "version": 3
   },
   "file_extension": ".py",
   "mimetype": "text/x-python",
   "name": "python",
   "nbconvert_exporter": "python",
   "pygments_lexer": "ipython3",
   "version": "3.7.3"
  }
 },
 "nbformat": 4,
 "nbformat_minor": 2
}
